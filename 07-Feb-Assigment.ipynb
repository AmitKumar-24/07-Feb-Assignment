{
 "cells": [
  {
   "cell_type": "markdown",
   "id": "777f9505-a605-414d-a940-cc422fd31b26",
   "metadata": {},
   "source": [
    "Q1. You are writing code for a company. The requirement of the company is that you create a python  function that will check whether the password entered by the user is correct or not. The function should  take the password as input and return the string “Valid Password” if the entered password follows the  below-given password guidelines else it should return “Invalid Password”. "
   ]
  },
  {
   "cell_type": "markdown",
   "id": "e87a0899-8e5a-404f-88d4-4569078c0f72",
   "metadata": {},
   "source": [
    "Note: 1. The Password should contain at least two uppercase letters and at least two lowercase letters."
   ]
  },
  {
   "cell_type": "markdown",
   "id": "f12a27c6-c667-40bf-a494-4287be6992d5",
   "metadata": {},
   "source": [
    "2. The Password should contain at least a number and three special characters. "
   ]
  },
  {
   "cell_type": "markdown",
   "id": "a2beb8af-ea26-43fa-87d0-85e6b792a65a",
   "metadata": {},
   "source": [
    "3. The length of the password should be 10 characters long. "
   ]
  },
  {
   "cell_type": "code",
   "execution_count": 4,
   "id": "9bb829ef-1730-4a1e-828d-868afab20a94",
   "metadata": {},
   "outputs": [
    {
     "name": "stdin",
     "output_type": "stream",
     "text": [
      " Valid#$Pass@&12\n"
     ]
    },
    {
     "data": {
      "text/plain": [
       "'Valid Password'"
      ]
     },
     "execution_count": 4,
     "metadata": {},
     "output_type": "execute_result"
    }
   ],
   "source": [
    "# check the password entered by the user program\n",
    "from string import punctuation\n",
    "def checkPass(password):\n",
    "    uppercase = 0\n",
    "    lowercase = 0\n",
    "    number = 0\n",
    "    special_char = 0\n",
    "    valid = False\n",
    "    if len(password) >= 10:\n",
    "        for i in password:\n",
    "            if i.isupper():\n",
    "                uppercase += 1\n",
    "            if i.islower():\n",
    "                lowercase += 1\n",
    "            if i.isnumeric():\n",
    "                number += 1\n",
    "            if i in punctuation:\n",
    "                special_char += 1\n",
    "        if uppercase >= 2 and lowercase >= 2 and number >= 1 and special_char >= 3:\n",
    "            valid = True\n",
    "    else:\n",
    "        valid = False\n",
    "    if valid:\n",
    "        return \"Valid Password\"\n",
    "    else :\n",
    "        return \"Invalid Password\"\n",
    "password = input()\n",
    "checkPass(password)"
   ]
  },
  {
   "cell_type": "markdown",
   "id": "afeeb2a2-1386-4631-b7c1-9666828935ff",
   "metadata": {},
   "source": [
    "Q2. Solve the below-given questions using at least one of the following:  \n",
    "1. Lambda function \n",
    "2. Filter function \n",
    "3. Map function\n",
    "4. List Comprehension "
   ]
  },
  {
   "cell_type": "code",
   "execution_count": null,
   "id": "957db8e5-85ec-44ae-a100-a0f97506fc78",
   "metadata": {},
   "outputs": [],
   "source": [
    "Check if the string starts with a particular letter.\n",
    "Check if the string is numeric.\n",
    "Sort a list of tuples having fruit names and their quantity. [(\"mango\",99),(\"orange\",80), (\"grapes\", 1000)]\n",
    "Find the squares of numbers from 1 to 10\n",
    "Find the cube root of numbers from 1 to 10\n",
    "Check if a given number is even\n",
    "Filter odd numbers from the given list.\n",
    "[1,2,3,4,5,6,7,8,9,10]\n",
    "Sort a list of integers into positive and negative integers lists.\n",
    "[1,2,3,4,5,6,-1,-2,-3,-4,-5,0]"
   ]
  },
  {
   "cell_type": "code",
   "execution_count": 17,
   "id": "28cdae4a-a86a-4175-8ca2-f5a991ada5cb",
   "metadata": {},
   "outputs": [
    {
     "data": {
      "text/plain": [
       "True"
      ]
     },
     "execution_count": 17,
     "metadata": {},
     "output_type": "execute_result"
    }
   ],
   "source": [
    "# Check if the string starts with a particular letter.\n",
    "# using lambda function\n",
    "start_with = lambda x : True if x.startswith('I') else False\n",
    "start_with('India')"
   ]
  },
  {
   "cell_type": "code",
   "execution_count": 23,
   "id": "17d9c596-204b-429d-adae-4270db0884d1",
   "metadata": {},
   "outputs": [
    {
     "data": {
      "text/plain": [
       "True"
      ]
     },
     "execution_count": 23,
     "metadata": {},
     "output_type": "execute_result"
    }
   ],
   "source": [
    "# Check if the string is numeric.\n",
    "#using lambda function\n",
    "string = lambda x: True if x.isdigit() else False\n",
    "string(\"7837\")"
   ]
  },
  {
   "cell_type": "code",
   "execution_count": 26,
   "id": "328d8f9a-e07c-4721-9398-2bc8879dac8f",
   "metadata": {},
   "outputs": [
    {
     "data": {
      "text/plain": [
       "[('orange', 80), ('mango', 99), ('grapes', 1000)]"
      ]
     },
     "execution_count": 26,
     "metadata": {},
     "output_type": "execute_result"
    }
   ],
   "source": [
    "# Sort a list of tuples having fruit names and their quantity. [(\"mango\",99),(\"orange\",80), (\"grapes\", 1000)]\n",
    "# using list comprehension\n",
    "fruits =  [(\"mango\",99),(\"orange\",80), (\"grapes\", 1000)]\n",
    "sort_fruits = [fruit for fruit in sorted(fruits, key= lambda x:x[1])]\n",
    "sort_fruits"
   ]
  },
  {
   "cell_type": "code",
   "execution_count": 28,
   "id": "f0ee8554-dc83-4480-b998-b6b978fcde92",
   "metadata": {},
   "outputs": [
    {
     "data": {
      "text/plain": [
       "[1, 4, 9, 16, 25, 36, 49, 64, 81, 100]"
      ]
     },
     "execution_count": 28,
     "metadata": {},
     "output_type": "execute_result"
    }
   ],
   "source": [
    "# Find the squares of numbers from 1 to 10\n",
    "# using map function\n",
    "sq_num = list(map(lambda x : x**2, range(1,11)))\n",
    "sq_num"
   ]
  },
  {
   "cell_type": "code",
   "execution_count": 32,
   "id": "d5afbd9c-dc81-42b0-a603-7d538889e7d2",
   "metadata": {},
   "outputs": [
    {
     "data": {
      "text/plain": [
       "[1.0,\n",
       " 1.2599210498948732,\n",
       " 1.4422495703074083,\n",
       " 1.5874010519681994,\n",
       " 1.7099759466766968,\n",
       " 1.8171205928321397,\n",
       " 1.912931182772389,\n",
       " 2.0,\n",
       " 2.080083823051904,\n",
       " 2.154434690031884]"
      ]
     },
     "execution_count": 32,
     "metadata": {},
     "output_type": "execute_result"
    }
   ],
   "source": [
    "# Find the cube root of numbers from 1 to 10\n",
    "# using map function\n",
    "cube_root = list(map(lambda x: x**(1/3), range(1,11)))\n",
    "cube_root"
   ]
  },
  {
   "cell_type": "code",
   "execution_count": 35,
   "id": "e2f623eb-c08f-4a00-ab8c-5148101d9c5a",
   "metadata": {},
   "outputs": [
    {
     "data": {
      "text/plain": [
       "True"
      ]
     },
     "execution_count": 35,
     "metadata": {},
     "output_type": "execute_result"
    }
   ],
   "source": [
    "# Check if a given number is even\n",
    "# using lambda function\n",
    "even_num = lambda i : True if i % 2 == 0 else False\n",
    "even_num(6)"
   ]
  },
  {
   "cell_type": "code",
   "execution_count": 36,
   "id": "ce1b695e-a850-416b-b8ea-5b1019c0dd9f",
   "metadata": {},
   "outputs": [
    {
     "data": {
      "text/plain": [
       "[1, 3, 5, 7, 9]"
      ]
     },
     "execution_count": 36,
     "metadata": {},
     "output_type": "execute_result"
    }
   ],
   "source": [
    "# Filter odd numbers from the given list. [1,2,3,4,5,6,7,8,9,10]\n",
    "# using filter function\n",
    "lst = [1,2,3,4,5,6,7,8,9,10]\n",
    "odd_num = list(filter(lambda x: x % 2 != 0, lst))\n",
    "odd_num"
   ]
  },
  {
   "cell_type": "code",
   "execution_count": 40,
   "id": "d7bf40e3-2ee1-4789-9581-e911f285f291",
   "metadata": {},
   "outputs": [
    {
     "name": "stdout",
     "output_type": "stream",
     "text": [
      "[1, 2, 3, 4, 5, 6]\n",
      "[-1, -2, -3, -4, -5]\n"
     ]
    }
   ],
   "source": [
    "# Sort a list of integers into positive and negative integers lists.[1,2,3,4,5,6,-1,-2,-3,-4,-5,0]\n",
    "# using list comprehension\n",
    "lst = [1,2,3,4,5,6,-1,-2,-3,-4,-5,0]\n",
    "positive_num = [x for x in lst if x > 0]\n",
    "negative_num = [x for x in lst if x < 0]\n",
    "print(positive_num)\n",
    "print(negative_num)"
   ]
  },
  {
   "cell_type": "code",
   "execution_count": null,
   "id": "f23b1eb3-895e-4bcc-9648-f4f5a92acc89",
   "metadata": {},
   "outputs": [],
   "source": []
  }
 ],
 "metadata": {
  "kernelspec": {
   "display_name": "Python 3 (ipykernel)",
   "language": "python",
   "name": "python3"
  },
  "language_info": {
   "codemirror_mode": {
    "name": "ipython",
    "version": 3
   },
   "file_extension": ".py",
   "mimetype": "text/x-python",
   "name": "python",
   "nbconvert_exporter": "python",
   "pygments_lexer": "ipython3",
   "version": "3.10.8"
  }
 },
 "nbformat": 4,
 "nbformat_minor": 5
}
